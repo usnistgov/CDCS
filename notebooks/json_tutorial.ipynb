{
 "cells": [
  {
   "cell_type": "markdown",
   "id": "bceca109",
   "metadata": {},
   "source": [
    "# Working with JSON Data in the CDCS\n",
    "\n",
    "<p class=\"lead\">This notebook provides a step-by-step guide for handling JSON schemas and datasets, running queries, and displaying results. By the end of this tutorial, you will be proficient in managing both basic and complex JSON structures within the CDCS platform.</p>\n",
    "\n",
    "<h2 class=\"text-primary\">Step 1: Accessing the CDCS Platform</h2>\n",
    "\n",
    "<div class=\"alert alert-info\">\n",
    "  Ensure that your CDCS environment is up and running. Once the environment is active, you can start testing and exploring.\n",
    "</div>"
   ]
  },
  {
   "cell_type": "markdown",
   "id": "16fd148d",
   "metadata": {},
   "source": [
    "<p class=\"lead\"><strong>base_url</strong>: This variable defines the local CDCS platform URL, serving as a prefix for all API calls and platform access.</p>\n",
    "\n",
    "<div class=\"alert alert-warning\">\n",
    "    <strong>Note:</strong> Ensure the URL does not end with a '/' to avoid errors.\n",
    "</div>\n"
   ]
  },
  {
   "cell_type": "code",
   "execution_count": null,
   "id": "b930bdc1",
   "metadata": {},
   "outputs": [],
   "source": [
    "# Base URL for the service\n",
    "base_url = input(\"Enter your CDCS url (eg: 'http://127.0.0.1:8000'): \")"
   ]
  },
  {
   "cell_type": "markdown",
   "id": "4f11d683",
   "metadata": {},
   "source": [
    "<p class=\"lead\">To access the platform:</p>\n",
    "<ol class=\"list-group lead\">\n",
    "    <li class=\"list-group-item\">Open your web browser.</li>\n",
    "    <li class=\"list-group-item\">Navigate to your CDCS app using the url entered</a>.</li>\n",
    "</ol>\n",
    "\n",
    "<div class=\"alert alert-warning\">\n",
    "    <strong>Note:</strong> To keep the output clean when dealing with unverified SSL certificates, you can disable the <code>InsecureRequestWarning</code>. This step is not needed for demos, but it helps in simplifying the input representation by avoiding unnecessary warnings.\n",
    "</div>"
   ]
  },
  {
   "cell_type": "code",
   "execution_count": null,
   "id": "cee6808e",
   "metadata": {},
   "outputs": [],
   "source": [
    "import warnings\n",
    "import urllib3\n",
    "\n",
    "# Suppress the specific InsecureRequestWarning\n",
    "urllib3.disable_warnings(urllib3.exceptions.InsecureRequestWarning)"
   ]
  },
  {
   "cell_type": "markdown",
   "id": "7baeb518",
   "metadata": {},
   "source": [
    "<p class=\"lead\">\n",
    "   To streamline our code, we'll define global variables for the username, password, and URLS. We securely collect the user's credentials using the <code>getpass</code> module to ensure the password remains hidden\n",
    "</p>\n"
   ]
  },
  {
   "cell_type": "code",
   "execution_count": null,
   "id": "c793a344",
   "metadata": {},
   "outputs": [],
   "source": [
    "import getpass\n",
    "\n",
    "# Ask for credentials\n",
    "username = input(\"Enter your username: \")\n",
    "password = getpass.getpass(\"Enter your password: \")\n",
    "\n",
    "# Store username and password in a tuple\n",
    "auth = (username,password)"
   ]
  },
  {
   "cell_type": "markdown",
   "id": "ea348204",
   "metadata": {},
   "source": [
    "<p class=\"lead\"><strong>auth</strong>: This variable contains the authentication credentials as a tuple, used for HTTP calls that require authorization.</p>\n"
   ]
  },
  {
   "cell_type": "code",
   "execution_count": null,
   "id": "dc925add",
   "metadata": {},
   "outputs": [],
   "source": [
    "# Define URLs for schema creation, data insertion and other utilities\n",
    "create_global_schema_rest_url = f\"{base_url}/rest/template/global/\"\n",
    "create_data_rest_url = f\"{base_url}/rest/data/\"\n",
    "run_query_rest_url = f\"{base_url}/rest/data/query/\"\n",
    "create_template_html_rendering_rest_url = f\"{base_url}/rest/template/html_rendering/\""
   ]
  },
  {
   "cell_type": "markdown",
   "id": "5c4fdab4",
   "metadata": {},
   "source": [
    "<h2 class=\"text-primary\">Step 2: Quick Start with a basic Example</h2>\n",
    " \n",
    "\n",
    "<p class=\"lead\">In this section, we provide a simple, complete example: create a schema, insert data, retrieve it, and display the results.</p>\n",
    "\n",
    "<h3>Define Schema</h3>\n",
    "\n",
    "<p class=\"lead\">This schema defines a person structure with 6 properties: an <code>id</code> (integer), <code>name</code> (string), <code>age</code>  (integer), <code>address</code> (string), <code>tel</code>(string), and <code>email</code> (string).</p>\n"
   ]
  },
  {
   "cell_type": "code",
   "execution_count": null,
   "id": "753330e5",
   "metadata": {},
   "outputs": [],
   "source": [
    "import json\n",
    "import requests\n",
    "from IPython.display import display, HTML\n",
    "from datetime import datetime\n",
    "\n",
    "# Get the current date and time\n",
    "current_datetime = datetime.now().strftime(\"%Y_%m_%d_%H:%M:%S\")\n",
    "\n",
    "# Define the JSON content for the schema creation\n",
    "json_content = {\n",
    "        \"title\": f\"schema_{current_datetime}\",\n",
    "        \"filename\": f\"schema_{current_datetime}.json\",\n",
    "        \"content\": json.dumps({\n",
    "  \"type\": \"object\",\n",
    "  \"properties\": {\n",
    "    \"id\": { \"type\": \"integer\" },\n",
    "    \"name\": { \"type\": \"string\" },\n",
    "    \"age\": { \"type\": \"integer\" },\n",
    "    \"address\": { \"type\": \"string\" },\n",
    "    \"tel\": { \"type\": \"string\" },\n",
    "    \"email\": { \"type\": \"string\" },\n",
    "  }  \n",
    "    })}\n",
    "            \n",
    "# Make a POST request to create the schema\n",
    "response = requests.post(create_global_schema_rest_url, json=json_content, auth=auth, verify=False)\n",
    "            \n",
    "# Check the response status\n",
    "if response.status_code == 201:\n",
    "    response_data = response.json()\n",
    "    display(HTML(f'<div class=\"alert alert-success\">Success: {response_data.get(\"_display_name\")} created</div>'))\n",
    "    template_id = response_data.get('id')\n",
    "else:\n",
    "    display(HTML(f'<div class=\"alert alert-danger\"> Failed: {response.status_code} - {response.text}</div>'))"
   ]
  },
  {
   "cell_type": "markdown",
   "id": "f7a62f0f",
   "metadata": {},
   "source": [
    "<h3>Insert the data</h3>\n",
    "\n",
    "<p class=\"lead\">\n",
    "  This data defines a JSON object for creating a person entry with fields such as <code>id</code>, <code>name</code>,<code>age</code>, <code>tel</code>,<code>email</code> and <code>address</code>.\n",
    "</p>\n"
   ]
  },
  {
   "cell_type": "code",
   "execution_count": null,
   "id": "d20f870d",
   "metadata": {},
   "outputs": [],
   "source": [
    "import json\n",
    "import requests\n",
    "from datetime import datetime\n",
    "\n",
    "# Get the current date and time\n",
    "current_datetime = datetime.now().strftime(\"%Y_%m_%d_%H:%M:%S\")\n",
    "\n",
    "# Define the JSON content for the data creation\n",
    "json_content = {\n",
    "    \"title\": f\"data_{current_datetime}\",\n",
    "    \"template\": template_id,  # Ensure template_id is set from previous schema creation\n",
    "    \"content\": json.dumps({\n",
    "        \"id\": 1,\n",
    "        \"name\": \"Alice\",\n",
    "        \"age\": 30,\n",
    "        \"address\":\"123 Main St, Cityville, State 12345\",\n",
    "        \"tel\": \"+1 (234) 567-890\",\n",
    "        \"email\": \"alice@example.com\"\n",
    "    })\n",
    "}\n",
    "\n",
    "# Make a POST request to create the data entry\n",
    "response = requests.post(create_data_rest_url, json=json_content, auth=auth, verify=False)\n",
    "\n",
    "# Check the response status\n",
    "if response.status_code == 201:\n",
    "    response_data = response.json()\n",
    "    display(HTML(f'<div class=\"alert alert-success\">Success: {response_data.get(\"title\") } created</div>'))\n",
    "    data_id = response_data.get('id')  \n",
    "\n",
    "else:\n",
    "    display(HTML(f'<div class=\"alert alert-danger\"> Failed: {response.status_code} - {response.text}</div>'))\n"
   ]
  },
  {
   "cell_type": "markdown",
   "id": "e32dcaa9",
   "metadata": {},
   "source": [
    "<p class=\"lead\">Let's retrieve data by sending a query that combines criteria like titles and templates to match the data we created, enabling efficient filtering and sorting of results.</p>\n",
    "\n",
    "<h3>Retreive data</h3>\n",
    "\n",
    "<p class=\"lead\">\n",
    "  To retrieve all data entries, the following POST request is used. The query is executed with <code>\"all\": \"true\"</code> to return all available records from the database.\n",
    "</p>\n"
   ]
  },
  {
   "cell_type": "code",
   "execution_count": null,
   "id": "74279d75",
   "metadata": {},
   "outputs": [],
   "source": [
    "response = requests.post(run_query_rest_url, json={\"query\": {},\"title\": f\"data_{current_datetime}\" , \"all\": \"true\"}, auth= auth,verify=False )\n",
    "\n",
    "\n",
    "if response.status_code == 200:\n",
    "    display(HTML(f'<div class=\"alert alert-success\"> Success <pre>{json.dumps(response.json(), indent=5)}</pre> </div>'))\n",
    "else:\n",
    "    display(HTML(f'<div class=\"alert alert-danger\"> Failed: {response.status_code} - {response.text}</div>'))"
   ]
  },
  {
   "cell_type": "markdown",
   "id": "45ee8a74",
   "metadata": {},
   "source": [
    "<h3>Render data via template html rendering</h3> \n",
    "\n",
    "<p class=\"lead\">\n",
    "  We are creating a detailed visual representation of data using a Bootstrap card layout with icons for enhanced clarity. The template dynamically pulls information such as <strong>name</strong>, <strong>age</strong>,<strong> tel</strong>, <strong>address</strong> and <strong>email</strong>, and presents it in a visually styled card format.\n",
    "</p>\n",
    "\n"
   ]
  },
  {
   "cell_type": "code",
   "execution_count": null,
   "id": "16ff158f",
   "metadata": {},
   "outputs": [],
   "source": [
    "# Define the HTML rendering template\n",
    "detail_rendering = \"\"\"\n",
    "<iframe srcdoc=\"\n",
    "<!DOCTYPE html>\n",
    "<html lang='en'>\n",
    "<head>\n",
    "  <!-- Bootstrap 5 CSS and Icons only for this iframe -->\n",
    "  <link href='https://cdn.jsdelivr.net/npm/bootstrap@5.3.0-alpha1/dist/css/bootstrap.min.css' rel='stylesheet'>\n",
    "  <link href='https://cdn.jsdelivr.net/npm/bootstrap-icons/font/bootstrap-icons.css' rel='stylesheet'>\n",
    "</head>\n",
    "<body>\n",
    "<div class='card border-info mb-3' style='max-width: 80%; margin: 20px auto;'>\n",
    "  <div class='card-header bg-info text-white d-flex align-items-center'>\n",
    "    <i class='bi bi-person-circle me-2' style='font-size: 3rem;'></i> <!-- Enlarged person icon with custom color -->\n",
    "    <h4 class='mb-0'>Person Details</h4>\n",
    "  </div>\n",
    "  <div class='card-body'>\n",
    "    <div class='d-flex align-items-center mb-3'>\n",
    "      <i class='bi bi-person-fill me-2'></i> \n",
    "      <strong>Name:</strong> {{ dict_content.name }}\n",
    "    </div>\n",
    "    <div class='d-flex align-items-center mb-3'>\n",
    "      <i class='bi bi-calendar3 me-2'></i> \n",
    "      <strong>Age:</strong> {{ dict_content.age }}\n",
    "    </div>\n",
    "    <div class='d-flex align-items-center'>\n",
    "      <i class='bi bi-geo-alt-fill me-2'></i>\n",
    "      <strong>Address:</strong> {{ dict_content.address }}\n",
    "    </div>\n",
    "  </div>\n",
    "  <ul class='list-group list-group-flush'>\n",
    "  </ul>\n",
    "  <div class='card-body'>\n",
    "    <p class='card-text'>\n",
    "      <i class='bi bi-telephone me-2'></i> <a href='{{ dict_content.tel }}'>{{ dict_content.tel }}</a><br>\n",
    "      <i class='bi bi-envelope me-2'></i> <a href='{{ dict_content.email }}'>{{ dict_content.email }}</a>\n",
    "    </p>\n",
    "  </div>\n",
    "</div>\n",
    "</body>\n",
    "</html>\n",
    "\" width=\"100%\" height=\"400px;\" style=\"border:none;\"></iframe>\n",
    "\"\"\"\n",
    "# Prepare the content dictionary\n",
    "content = {\n",
    "    \"template\": template_id,  # Use the previously created template id\n",
    "    \"detail_rendering\": detail_rendering \n",
    "}\n",
    "\n",
    "# Make a POST request to create the template HTML rendering\n",
    "response = requests.post(create_template_html_rendering_rest_url, json=content, auth=auth, verify=False)\n",
    "\n",
    "# Check the response status\n",
    "if response.status_code == 201:\n",
    "    display(HTML(f'<div class=\"alert alert-success\"> Success: HTML rendering created</div>'))  \n",
    "else:\n",
    "    display(HTML(f'<div class=\"alert alert-danger\"> Failed: {response.status_code} - {response.text}</div>'))\n"
   ]
  },
  {
   "cell_type": "markdown",
   "id": "58339681",
   "metadata": {},
   "source": [
    "<p class=\"lead\">\n",
    "  Here's the result after the transformation. Run the code to see the rendered output:\n",
    "</p>"
   ]
  },
  {
   "cell_type": "code",
   "execution_count": null,
   "id": "7349e02e",
   "metadata": {
    "scrolled": false
   },
   "outputs": [],
   "source": [
    "from IPython.display import display, HTML \n",
    "\n",
    "# Construct the URL\n",
    "render_data_detail_rest_url = f\"{base_url}/rest/data/{data_id}/render/\"\n",
    "\n",
    "# Make a GET request to fetch the rendered HTML detail for the data entry\n",
    "response = requests.get(render_data_detail_rest_url, auth=auth, verify=False)\n",
    "\n",
    "# Check the response status\n",
    "if response.status_code == 200:\n",
    "    display(HTML(response.json()))\n",
    "else:\n",
    "    display(HTML(f'<div class=\"alert alert-danger\"> Failed: {response.status_code} - {response.text}</div>'))\n"
   ]
  },
  {
   "cell_type": "markdown",
   "id": "3ac24c92",
   "metadata": {},
   "source": [
    "<div class=\"alert alert-success\"> You’ve completed the quick start with a basic example where you successfully created, inserted,retrieved and displayed your json data. This gave you a simple overview of how to interact with the CDCS platform. </div>"
   ]
  },
  {
   "cell_type": "markdown",
   "id": "ecfa7185",
   "metadata": {},
   "source": [
    "# Exploring Advanced Schema Templates, Data and Queries\n",
    " \n",
    "\n",
    "<p class=\"lead\">Now, it's time to dive deeper into the details. We'll explore the next steps, such as defining more complex schema templates, submitting them to the platform, and running more advanced queries to manipulate and retrieve data. These steps will give you a stronger grasp of the CDCS platform’s capabilities and how to customize it for your specific needs.</p>\n",
    "\n",
    "<h2 class=\"text-primary\">Step 1: Creating a Template from JSON Schema</h2>\n",
    "\n",
    "<p class=\"lead\">Let's define the function that creates the global schema and submits it to the specified API endpoint:</p>\n"
   ]
  },
  {
   "cell_type": "code",
   "execution_count": null,
   "id": "c38f2c4c",
   "metadata": {
    "scrolled": false
   },
   "outputs": [],
   "source": [
    "def create_new_schema(title, schema_content):\n",
    "    # Prepare the content dictionary with title, filename, and schema content\n",
    "    content = {\n",
    "        \"title\": title,  \n",
    "        \"filename\": f\"{title}.json\",  \n",
    "        \"content\": json.dumps(schema_content) \n",
    "    }\n",
    "\n",
    "    # Send a POST request to create the schema\n",
    "    response = requests.post(create_global_schema_rest_url, json=content, auth=auth, verify=False)\n",
    "\n",
    "    # Check the response status\n",
    "    if response.status_code == 201:\n",
    "        display(HTML(f'<div class=\"alert alert-success\"> Success: {title} created</div>'))\n",
    "        response_data = response.json()  \n",
    "        return response_data.get('id')  \n",
    "    else:\n",
    "        display(HTML(f'<div class=\"alert alert-danger\"> Failed: {response.status_code} - {response.text}</div>'))\n"
   ]
  },
  {
   "cell_type": "markdown",
   "id": "32e79d80",
   "metadata": {},
   "source": [
    "<p class=\"lead\">The function takes a schema title and JSON content, then sends a POST request to the API.</p>\n",
    "\n",
    "<p class=\"lead\">We'll explore three JSON schema types: empty, simple, and complex, each serving different validation and structure needs.</p>\n",
    "\n",
    "## Empty JSON Schema\n",
    "\n",
    "<p class=\"lead\">An empty JSON schema <code>{}</code> is very permissive, allowing any valid JSON data to be considered valid. This includes any primitive value, array, object, and complex nested structures.</p>\n",
    "\n",
    "<div class=\"alert alert-warning\">\n",
    "    <strong>Note:</strong> In the CDCS application, only JSON objects are considered valid data, so while the schema is permissive, the data must still be a JSON object.\n",
    "</div>\n",
    "\n"
   ]
  },
  {
   "cell_type": "code",
   "execution_count": null,
   "id": "ce99fd22",
   "metadata": {},
   "outputs": [],
   "source": [
    "# Empty JSON schema\n",
    "empty_schema = {\n",
    "    \"title\": \"schema_1\",\n",
    "    \"content\": \"{}\" # Empty content\n",
    "}\n",
    "\n",
    "# Create the schema_1\n",
    "schema_id_1 = create_new_schema(\"schema_1\", empty_schema)\n"
   ]
  },
  {
   "cell_type": "markdown",
   "id": "533aee47",
   "metadata": {},
   "source": [
    "<p class=\"lead\">Once the schema is created, it will become available as:</p>\n",
    "<ul class=\"lead\">\n",
    "    <li>An option for curating data at <strong>/curate</strong></li>\n",
    "    <li >A filter option in the exploration section at <strong>/explore/keyword</strong></li>\n",
    "    <li>An item listed in the templates section at <strong>/core-admin/templates</strong></li>\n",
    "</ul>"
   ]
  },
  {
   "cell_type": "markdown",
   "id": "9a1557df",
   "metadata": {},
   "source": [
    "## Simple JSON Schema\n",
    "\n",
    "<p class=\"lead\">A simple JSON schema defines a basic structure for the data.</p>\n",
    "\n",
    "<p class=\"lead\">For example, a schema that expects an object Person with specific fields such as <strong>Name</strong> <code>string</code> and <strong>Age</strong>  <code>integer</code> can enforce these constraints, ensuring that only JSON data matching this structure is valid.</p>"
   ]
  },
  {
   "cell_type": "code",
   "execution_count": null,
   "id": "af760bc0",
   "metadata": {},
   "outputs": [],
   "source": [
    "simple_schema_content = {\n",
    "    \"$schema\": \"https://json-schema.org/draft/2020-12/schema\",\n",
    "    \"title\": \"Person\",\n",
    "    \"type\": \"object\",\n",
    "    \"properties\": {\n",
    "        \"name\": {\n",
    "            \"type\": \"string\"\n",
    "        },\n",
    "        \"age\": {\n",
    "            \"type\": \"integer\",\n",
    "        }\n",
    "    }\n",
    "}\n",
    "\n",
    "# Create the schema_2\n",
    "schema_id_2 = create_new_schema(\"schema_2\", simple_schema_content)"
   ]
  },
  {
   "cell_type": "markdown",
   "id": "005a4402",
   "metadata": {},
   "source": [
    "<p class=\"lead\">If you check <strong>/curate/</strong> again, you'll see two options for curating data: <strong>schema_1</strong> and <strong>schema_2</strong>. Additionally, these schemas will appear as:</p>\n",
    "<ul class=\"lead\">\n",
    "    <li>A filter option in the exploration section at <strong>/explore/keyword</strong></li>\n",
    "    <li>An item listed in the templates section at <strong>/core-admin/templates</strong></li>\n",
    "</ul>"
   ]
  },
  {
   "cell_type": "markdown",
   "id": "5ed8f438",
   "metadata": {},
   "source": [
    "## Complex JSON Schema\n",
    "\n",
    "<p class=\"lead\">A complex JSON schema provides a detailed structure for the data, enforcing strict validation rules.</p>\n",
    "\n",
    "<p class=\"lead\">For example, the schema might expect an object with nested fields such as <strong>name</strong> (<code>string</code>), <strong>age</strong> (<code>integer</code> with a minimum value of 0), and <strong>address</strong> (an object containing <strong>street</strong>, <strong>city</strong>, <strong>state</strong>, and <strong>postalCode</strong>, with <strong>postalCode</strong> requiring a specific pattern). Additionally, the schema can include arrays, such as <strong>hobbies</strong>, where each item must be a <code>string</code>.</p>\n",
    "\n",
    "<p class=\"lead\">This ensures that only JSON data conforming to this intricate structure is considered valid.</p>\n",
    "\n"
   ]
  },
  {
   "cell_type": "code",
   "execution_count": null,
   "id": "3cc2f32d",
   "metadata": {},
   "outputs": [],
   "source": [
    "complex_schema_content = {\n",
    "  \"$id\": \"https://example.com/complex-object.schema.json\",\n",
    "  \"$schema\": \"https://json-schema.org/draft/2020-12/schema\",\n",
    "  \"title\": \"Complex Object\",\n",
    "  \"type\": \"object\",\n",
    "  \"properties\": {\n",
    "    \"name\": {\n",
    "      \"type\": \"string\"\n",
    "    },\n",
    "    \"age\": {\n",
    "      \"type\": \"integer\",\n",
    "      \"minimum\": 0\n",
    "    },\n",
    "    \"address\": {\n",
    "      \"type\": \"object\",\n",
    "      \"properties\": {\n",
    "        \"street\": {\n",
    "          \"type\": \"string\"\n",
    "        },\n",
    "        \"city\": {\n",
    "          \"type\": \"string\"\n",
    "        },\n",
    "        \"state\": {\n",
    "          \"type\": \"string\"\n",
    "        },\n",
    "        \"postalCode\": {\n",
    "          \"type\": \"string\",\n",
    "          \"pattern\": \"\\\\d{5}\"\n",
    "        }\n",
    "      },\n",
    "      \"required\": [\"street\", \"city\", \"state\", \"postalCode\"]\n",
    "    },\n",
    "    \"hobbies\": {\n",
    "      \"type\": \"array\",\n",
    "      \"items\": {\n",
    "        \"type\": \"string\"\n",
    "      }\n",
    "    }\n",
    "  },\n",
    "  \"required\": [\"name\", \"age\"]\n",
    "}\n",
    "\n",
    "# Create the schema_3\n",
    "schema_id_3 = create_new_schema(\"schema_3\", complex_schema_content)"
   ]
  },
  {
   "cell_type": "markdown",
   "id": "4270229e",
   "metadata": {},
   "source": [
    "<p class=\"lead\">You can hop over to <strong>/curate/</strong> and check it out. </p>\n",
    "\n",
    "<div class=\"alert alert-warning\">\n",
    "    <strong>Note:</strong> If you run one of those codes multiple times with different titles `Schema_X`, you'll start seeing all your options for curating data show up there.\n",
    "</div>"
   ]
  },
  {
   "cell_type": "markdown",
   "id": "c9be5601",
   "metadata": {},
   "source": [
    "<h2 class=\"text-primary\">Step 2: Creating data</h2> \n",
    "\n",
    "<p class=\"lead\">With our templates defined, we'll now create a function to submit data structured according to these templates via a POST request to the API.</p>\n",
    "\n",
    "<p class=\"lead\">The <code>create_new_data</code> function is responsible for creating a new data entry. We need to provide a title, the template ID, and the JSON content.</p>"
   ]
  },
  {
   "cell_type": "code",
   "execution_count": null,
   "id": "9b0a7351",
   "metadata": {},
   "outputs": [],
   "source": [
    "def create_new_data(title, template, data_content):\n",
    "    \n",
    "    # Prepare the content dictionary with title, template, and schema content\n",
    "    content = {\n",
    "        \"title\": title,\n",
    "        \"template\": template,\n",
    "        \"content\": json.dumps(data_content) \n",
    "    }\n",
    "    \n",
    "    # Send a POST request to create the schema\n",
    "    response = requests.post(create_data_rest_url, json=content, auth=auth, verify=False)\n",
    "    \n",
    "    # Check the response status\n",
    "    if response.status_code == 201:\n",
    "        display(HTML(f'<div class=\"alert alert-success\"> Success: {title} created</div>'))\n",
    "        response_data = response.json()  \n",
    "        return response_data.get('id') \n",
    "    else:\n",
    "        display(HTML(f'<div class=\"alert alert-danger\"> Failed: {response.status_code} - {response.text}</div>'))"
   ]
  },
  {
   "cell_type": "markdown",
   "id": "0b1d91c6",
   "metadata": {},
   "source": [
    "<p class=\"lead\"> The next code includes different JSON data examples to test the API's ability to handle various dataset using an empty template.</p>\n",
    "\n"
   ]
  },
  {
   "cell_type": "markdown",
   "id": "767e1a87",
   "metadata": {},
   "source": [
    "### Creating data using empty schema\n",
    "\n",
    "<ul class=\"lead\"><li>The first example is an empty JSON object <code>{}</code>, which serves as a minimal input to check how the API handles the absence of data.</li></ul>\n",
    "\n"
   ]
  },
  {
   "cell_type": "code",
   "execution_count": null,
   "id": "b36b90ad",
   "metadata": {},
   "outputs": [],
   "source": [
    "data_content = {}\n",
    "\n",
    "# Create the data_1 from the schema 1\n",
    "data_id_1 = create_new_data(\"data_1_schema_1\", schema_id_1, data_content)"
   ]
  },
  {
   "cell_type": "markdown",
   "id": "2031b115",
   "metadata": {},
   "source": [
    "<ul class=\"lead\"><li>The second example is a simple object <code>{\"key\": \"value\"}</code>, which contains a single key-value pair, representing basic JSON data. This is useful for testing straightforward data submissions.</li></ul>\n"
   ]
  },
  {
   "cell_type": "code",
   "execution_count": null,
   "id": "c38c44fa",
   "metadata": {},
   "outputs": [],
   "source": [
    "data_content = {\"key\": \"value\"}\n",
    "\n",
    "# Create the data_2 from the schema 1\n",
    "data_id_2 = create_new_data(\"data_2_schema_1\", schema_id_1, data_content)"
   ]
  },
  {
   "cell_type": "markdown",
   "id": "401bccd1",
   "metadata": {},
   "source": [
    "<ul class=\"lead\">\n",
    "    <li>The third example is a complex nested JSON object that includes an array and a nested object. This example, with keys like <code>\"array\"</code>, <code>\"object\"</code>, and <code>\"nested\"</code>, is designed to process and store more intricate JSON structures.</li>\n",
    "</ul>\n"
   ]
  },
  {
   "cell_type": "code",
   "execution_count": null,
   "id": "c97772fb",
   "metadata": {},
   "outputs": [],
   "source": [
    "data_content = {  # complex nested JSON\n",
    "        \"array\": [1, 2, 3],\n",
    "        \"object\": {\"key\": \"value\"},\n",
    "        \"nested\": {\n",
    "            \"arr\": [False, True],\n",
    "            \"obj\": {\"innerKey\": 123}\n",
    "        }\n",
    "    }\n",
    "\n",
    "# Create the data_3 from the schema 1\n",
    "data_id_3 = create_new_data(\"data_3_schema_1\", schema_id_1, data_content)"
   ]
  },
  {
   "cell_type": "markdown",
   "id": "e12b38cb",
   "metadata": {},
   "source": [
    "<ul class=\"lead\">\n",
    "    <li>Finally, we'll try using a string. As mentioned before, the error occurs because <code>data_content = \"12\"</code> is a plain string, not a valid JSON object.\n",
    "    </li>\n",
    "</ul>\n"
   ]
  },
  {
   "cell_type": "code",
   "execution_count": null,
   "id": "a3be2f86",
   "metadata": {},
   "outputs": [],
   "source": [
    "data_content = \"12\"\n",
    "\n",
    "# Attempt to create data with a correct type, but invalid for our system \n",
    "create_new_data(\"data_4_schema_1\", schema_id_1, data_content)"
   ]
  },
  {
   "cell_type": "markdown",
   "id": "ffae2dfb",
   "metadata": {},
   "source": [
    "<p class=\"lead\">Together, these examples demonstrate how permissive an empty template can be, accommodating everything from the simplest to the most complex JSON.</p>"
   ]
  },
  {
   "cell_type": "markdown",
   "id": "d4d88ce2",
   "metadata": {},
   "source": [
    "### Creating data using the simple schema\n",
    "\n",
    "<p class=\"lead\">When using a simple schema, we define a basic structure for our JSON data, specifying field types. The schema ensures data integrity while still allowing flexibility in the submitted content.</p>"
   ]
  },
  {
   "cell_type": "code",
   "execution_count": null,
   "id": "baffa37a",
   "metadata": {},
   "outputs": [],
   "source": [
    "data_content = {\n",
    "    \"name\": \"username\",\n",
    "    \"age\": 30\n",
    "}\n",
    "\n",
    "# Create the data_1 from the schema 2\n",
    "data_id_4 = create_new_data(\"data_1_schema_2\", schema_id_2 , data_content)"
   ]
  },
  {
   "cell_type": "markdown",
   "id": "e2eca478",
   "metadata": {},
   "source": [
    "<p class=\"lead\">Creating data with an empty string for the name field technically pass validation because an empty string is still considered a valid string type.</p>"
   ]
  },
  {
   "cell_type": "code",
   "execution_count": null,
   "id": "cc5c9e9e",
   "metadata": {},
   "outputs": [],
   "source": [
    "data_content = {\n",
    "    \"name\": \"\",\n",
    "    \"age\": 40\n",
    "}\n",
    "\n",
    "# Create the data_2 from the schema 2\n",
    "data_id_5 = create_new_data(\"data_2_schema_2\", schema_id_2 , data_content)"
   ]
  },
  {
   "cell_type": "markdown",
   "id": "ac8adaa6",
   "metadata": {},
   "source": [
    "<p class=\"lead\">The next entry includes an extra field <code>email</code> that is not defined in the schema. While the schema doesn't specify this field, it will still be accepted unless the schema explicitly disallows additional properties.</p>"
   ]
  },
  {
   "cell_type": "code",
   "execution_count": null,
   "id": "bf97a4d7",
   "metadata": {},
   "outputs": [],
   "source": [
    "data_content = {\n",
    "    \"name\": \"John Smith\",\n",
    "    \"age\": 25,\n",
    "    \"email\": \"john.smith@example.com\"\n",
    "}\n",
    "\n",
    "# Create the data_3 from the schema 2\n",
    "data_id_6 = create_new_data(\"data_3_schema_2\", schema_id_2 , data_content)"
   ]
  },
  {
   "cell_type": "markdown",
   "id": "b2d70e09",
   "metadata": {},
   "source": [
    "<p class=\"lead\">Creating data with an incorrect type for the <code>age</code> field, such as providing a string (<code>thirty</code>) instead of the expected integer, will violate the schema's type requirement. As a result, the system will reject the entry and return an error, as it doesn't conform to the defined schema.</p>"
   ]
  },
  {
   "cell_type": "code",
   "execution_count": null,
   "id": "8aa6c19b",
   "metadata": {},
   "outputs": [],
   "source": [
    "data_content = {\n",
    "    \"name\": \"Jane Doe\",\n",
    "    \"age\": \"thirty\"\n",
    "}\n",
    "\n",
    "# Attempt to create data with an incorrect type for 'age'\n",
    "create_new_data(\"data_schema_2\", schema_id_2, data_content)"
   ]
  },
  {
   "cell_type": "markdown",
   "id": "5d2117a7",
   "metadata": {},
   "source": [
    "### Creating data using the complex schema\n",
    "\n",
    "<p class=\"lead\">Now, we'll create data entries using the complex JSON schema. This schema enforces strict validation rules, ensuring that data is structured and conforms to specific constraints.</p>"
   ]
  },
  {
   "cell_type": "code",
   "execution_count": null,
   "id": "9fdbfc57",
   "metadata": {},
   "outputs": [],
   "source": [
    "data_content ={\n",
    "  \"name\": \"John Doe\",\n",
    "  \"age\": 30,\n",
    "  \"address\": {\n",
    "    \"street\": \"123 Main St\",\n",
    "    \"city\": \"Anytown\",\n",
    "    \"state\": \"CA\",\n",
    "    \"postalCode\": \"12345\"\n",
    "  },\n",
    "  \"hobbies\": [\"reading\", \"cycling\", \"hiking\"]\n",
    "}\n",
    "\n",
    "# Create the data_1 from the schema 3\n",
    "data_id_7 = create_new_data(\"data_1_schema_3\", schema_id_3, data_content)"
   ]
  },
  {
   "cell_type": "markdown",
   "id": "c2d1a584",
   "metadata": {},
   "source": [
    "<p class=\"lead\">In the next example, we'll intentionally provide incorrect input to demonstrate schema validation. The <code>age</code> is <code>-5</code> (must be non-negative), the postal code <code>\"ABCDE\"</code> doesn't match the required pattern, and <code>hobbies</code> are given as a string instead of an array. These errors will trigger validation failures.</p>"
   ]
  },
  {
   "cell_type": "code",
   "execution_count": null,
   "id": "a3a4b72a",
   "metadata": {},
   "outputs": [],
   "source": [
    "data_content ={\n",
    "  \"name\": \"John Doe\",\n",
    "  \"age\": -5,\n",
    "  \"address\": {\n",
    "    \"street\": \"789 Pine Road\",\n",
    "    \"city\": \"Gotham\",\n",
    "    \"state\": \"NY\",\n",
    "    \"postalCode\": \"ABCDE\"\n",
    "  },\n",
    "  \"hobbies\": \"reading, cycling, hiking\"\n",
    "}\n",
    "\n",
    "# Attempt to create data with an incorrect values\n",
    "create_new_data(\"data_schema_3\", schema_id_3, data_content)"
   ]
  },
  {
   "cell_type": "markdown",
   "id": "b3671dc5",
   "metadata": {},
   "source": [
    "<p class=\"lead\">\n",
    "Now that all your data has been created, you can view it in the <strong>My records</strong> section of the app or manipulate it using queries.</p>\n",
    "\n",
    "<div class=\"alert alert-warning\">\n",
    "    <strong>Note:</strong> If you run one of those codes multiple times, you'll see identical data in the list, as creating data with the same name from the same template is allowed.\n",
    "</div>"
   ]
  },
  {
   "cell_type": "markdown",
   "id": "02599460",
   "metadata": {},
   "source": [
    "<h2 class=\"text-primary\">Step 3: Retreive Data using queries</h2> \n",
    "\n",
    "<p class=\"lead\">In this section, we explore different query options for retrieving data from the API. </p>\n",
    "\n",
    "<p class=\"lead\">Queries can be customized based on specific criteria like pagination, filtering by title, workspaces, templates, or even XPath expressions. You can also combine multiple query options to fine-tune the results, allowing for flexible and efficient data retrieval.</p>\n",
    "\n",
    "<p class=\"lead\">Before we begin, let's create a function that sends a POST request to execute a specified query on the platform.</p>\n"
   ]
  },
  {
   "cell_type": "code",
   "execution_count": null,
   "id": "f50820f6",
   "metadata": {},
   "outputs": [],
   "source": [
    "# Function to run a query and handle the response\n",
    "def run_query(query):\n",
    "    \n",
    "    # Send a POST request to the query endpoint with the query data\n",
    "    response = requests.post(run_query_rest_url, json=query, auth=auth, verify=False)\n",
    "    \n",
    "    # Check the response status\n",
    "    if response.status_code == 200:\n",
    "        display(HTML(f'<div class=\"alert alert-success\"> Success <pre>{json.dumps(response.json(), indent=5)}</pre> </div>'))\n",
    "    else:\n",
    "        display(HTML(f'<div class=\"alert alert-danger\"> Failed: {response.status_code} - {response.text}</div>'))\n"
   ]
  },
  {
   "cell_type": "markdown",
   "id": "9064f0ea",
   "metadata": {},
   "source": [
    "<ul class=\"lead\"><li> Get all results ensuring all possible matches are returned:</li></ul>"
   ]
  },
  {
   "cell_type": "code",
   "execution_count": null,
   "id": "e7648472",
   "metadata": {},
   "outputs": [],
   "source": [
    "run_query({\"query\": {}, \"all\": \"true\"})"
   ]
  },
  {
   "cell_type": "markdown",
   "id": "d4ae9c34",
   "metadata": {},
   "source": [
    "<ul class=\"lead\"><li>  Get all results filtered by a specific title:</li></ul>"
   ]
  },
  {
   "cell_type": "code",
   "execution_count": null,
   "id": "6d966ac4",
   "metadata": {},
   "outputs": [],
   "source": [
    "run_query({\"query\": {}, \"title\": \"data_3_schema_2\", \"all\": \"true\"})"
   ]
  },
  {
   "cell_type": "markdown",
   "id": "51eceff7",
   "metadata": {},
   "source": [
    "<ul class=\"lead\"><li>  Get results filtered by a specific templates and keywords:</li></ul>"
   ]
  },
  {
   "cell_type": "code",
   "execution_count": null,
   "id": "84a7fa37",
   "metadata": {},
   "outputs": [],
   "source": [
    "run_query({\"query\": {\"name\":\"John Smith\",\"age\":25}, \"templates\": [{\"id\": schema_id_2},{\"id\": schema_id_3}], \"all\": \"true\"})"
   ]
  },
  {
   "cell_type": "markdown",
   "id": "4b0cc909",
   "metadata": {},
   "source": [
    "<h2 class=\"text-primary\">Step 4: Template HTML Rendering</h2>   \n",
    "\n",
    "<p class=\"lead\">Template HTML rendering allows you to dynamically display data in either a list or detail by defining and adjusting specific templates for these formats.</p>\n",
    "\n",
    "<p class=\"lead\">To explore this feature, we'll create a template HTML rendering for each of our templates to see how our data is rendered in each option.</p>\n"
   ]
  },
  {
   "cell_type": "code",
   "execution_count": null,
   "id": "e768ae69",
   "metadata": {},
   "outputs": [],
   "source": [
    "create_template_html_rendering_rest_url = f\"{base_url}/rest/template/html_rendering/\"\n",
    "render_data_list_rest_url = f\"{base_url}/rest/data/{data_id_7}/render?rendering=list\"\n",
    "render_data_detail_rest_url = f\"{base_url}/rest/data/{data_id_7}/render/\""
   ]
  },
  {
   "cell_type": "markdown",
   "id": "8d5de4df",
   "metadata": {},
   "source": [
    "<p class=\"lead\">\n",
    "    The <code>create_new_template_html_rendering</code> function facilitates the creation of custom HTML templates for displaying data associated with a specific schema.It takes the template ID, list rendering HTML, and detail rendering HTML as inputs.\n",
    ".</p>\n"
   ]
  },
  {
   "cell_type": "code",
   "execution_count": null,
   "id": "f41f26a2",
   "metadata": {},
   "outputs": [],
   "source": [
    "# Function to create a new HTML rendering for a template\n",
    "def create_new_template_html_rendering(template):\n",
    "    # Prepare the content dictionary with the template, list rendering, and detail rendering\n",
    "    content = {\n",
    "        \"template\": template,  \n",
    "    }\n",
    "\n",
    "    # Send a POST request to create the template HTML rendering on the server\n",
    "    response = requests.post(create_template_html_rendering_rest_url, json=content, auth=auth, verify=False)\n",
    "\n",
    "    # Check the response status\n",
    "    if response.status_code == 201:\n",
    "        display(HTML('<div class=\"alert alert-success\"> Success: HTML rendering created</div>'))\n",
    "        response_data = response.json()  \n",
    "        return response_data.get('id') \n",
    "    else:\n",
    "        display(HTML(f'<div class=\"alert alert-danger\"> Failed: {response.status_code} - {response.text}</div>'))\n",
    "\n",
    "\n",
    "template_html_rendering_id = create_new_template_html_rendering(schema_id_3)"
   ]
  },
  {
   "cell_type": "markdown",
   "id": "2fc1552d",
   "metadata": {},
   "source": [
    "<div class=\"alert alert-warning\">\n",
    "    <strong>Note:</strong> Every template should be associated with only one template_html_rendering. If you try to run this function more than once for the same template, it will result in an error.\n",
    "</div>\n",
    "\n",
    "<p class=\"lead\">\n",
    "    To avoid errors from creating multiple renderings for the same template, we will create the initial <code>template_html_rendering</code> and update the list and detail rendering each time you need to make changes.\n",
    "</p>\n"
   ]
  },
  {
   "cell_type": "code",
   "execution_count": null,
   "id": "28cbc201",
   "metadata": {},
   "outputs": [],
   "source": [
    "from IPython.display import display, HTML\n",
    "\n",
    "# Function to update a HTML rendering for a template\n",
    "def update_rendering(template_rendering, list_rendering, detail_rendering):\n",
    "    # Prepare the content dictionary with the id, list rendering, and detail rendering\n",
    "    content = {\n",
    "        \"list_rendering\": list_rendering,\n",
    "        \"detail_rendering\": detail_rendering,\n",
    "    }\n",
    "    \n",
    "    create_template_html_rendering_rest_url = f\"{base_url}/rest/template/html_rendering/{template_rendering}\"\n",
    "\n",
    "    # Send a patch request to update the template HTML rendering on the server\n",
    "    response = requests.patch(create_template_html_rendering_rest_url, json=content, auth=auth, verify=False)\n",
    "\n",
    "    # Check the response status\n",
    "    if response.status_code == 200:\n",
    "        display(HTML('<div class=\"alert alert-success\"> Success: HTML rendering updated</div>'))\n",
    "       \n",
    "    else:\n",
    "        display(HTML(f'<div class=\"alert alert-danger\"> Failed: {response.status_code} - {response.text}</div>'))"
   ]
  },
  {
   "cell_type": "code",
   "execution_count": null,
   "id": "bad62795",
   "metadata": {},
   "outputs": [],
   "source": [
    "list_rendering = list_rendering = \"\"\"<div class=\"table-responsive\">\n",
    "  <table class=\"table table-striped\">\n",
    "    <tbody>\n",
    "      <tr>\n",
    "        <th style=\"width: 30%;\">Name</th>\n",
    "        <td style=\"width: 70%;\">{{ dict_content.name }}</td>\n",
    "      </tr>\n",
    "      <tr>\n",
    "        <th style=\"width: 30%;\">Age</th>\n",
    "        <td style=\"width: 70%;\">{{ dict_content.age }}</td>\n",
    "      </tr>\n",
    "      <tr>\n",
    "        <th style=\"width: 30%;\">Address</th>\n",
    "        <td style=\"width: 70%;\">{{ dict_content.address.street }}, {{ dict_content.address.city }}, {{ dict_content.address.state }} {{ dict_content.address.postalCode }}</td>\n",
    "      </tr>\n",
    "    </tbody>\n",
    "  </table>\n",
    "</div>\"\"\"\n",
    "\n",
    "\n",
    "\n",
    "detail_rendering = \"\"\"<div class=\"container\">\n",
    "  <h2>Details</h2>\n",
    "  <table class=\"table table-striped\" style=\"width: 80%; table-layout: fixed;\">\n",
    "    <tbody>\n",
    "      <tr>\n",
    "        <th style=\"width: 30%;\">Name</th>\n",
    "        <td style=\"width: 70%;\">{{ dict_content.name }}</td>\n",
    "      </tr>\n",
    "      <tr>\n",
    "        <th style=\"width: 30%;\">Age</th>\n",
    "        <td style=\"width: 70%;\">{{ dict_content.age }}</td>\n",
    "      </tr>\n",
    "    </tbody>\n",
    "  </table>\n",
    "\n",
    "  <h3>Address</h3>\n",
    "  <table class=\"table table-striped\" style=\"width: 80%; table-layout: fixed;\">\n",
    "    <tbody>\n",
    "      <tr>\n",
    "        <th style=\"width: 30%\">Street</th>\n",
    "        <td style=\"width: 70%;\" class=\"float-right\">{{ dict_content.address.street }}</td>\n",
    "      </tr>\n",
    "      <tr>\n",
    "        <th style=\"width: 30%;\">City</th>\n",
    "        <td style=\"width: 70%;\">{{ dict_content.address.city }}</td>\n",
    "      </tr>\n",
    "      <tr>\n",
    "        <th style=\"width: 30%;\">State</th>\n",
    "        <td style=\"width: 70%;\">{{ dict_content.address.state }}</td>\n",
    "      </tr>\n",
    "      <tr>\n",
    "        <th style=\"width: 30%;\">Postal Code</th>\n",
    "        <td style=\"width: 70%;\">{{ dict_content.address.postalCode }}</td>\n",
    "      </tr>\n",
    "    </tbody>\n",
    "  </table>\n",
    "\n",
    "  <h3>Hobbies</h3>\n",
    "  <ul class=\"list-group list-group-flush\" style=\"width: 80%;\">\n",
    "    {% for hobby in dict_content.hobbies %}\n",
    "      <li class=\"list-group-item\">{{ hobby }}</li>\n",
    "    {% endfor %}\n",
    "  </ul>\n",
    "</div>\"\"\"\n",
    "\n",
    "\n",
    "\n",
    "update_rendering(template_html_rendering_id, list_rendering, detail_rendering)"
   ]
  },
  {
   "cell_type": "markdown",
   "id": "dffe4367",
   "metadata": {},
   "source": [
    "<p class=\"lead\">To view how the data appears with the rendering applied, use the <code>get_template_html_rendering</code> function. After creating the <code>template_html_rendering</code>, retrieve and display the HTML-rendered content by calling the function with the appropriate URL for either the list or detail format.</p>\n"
   ]
  },
  {
   "cell_type": "code",
   "execution_count": null,
   "id": "8b60ad8a",
   "metadata": {},
   "outputs": [],
   "source": [
    "from IPython.display import display, HTML\n",
    "\n",
    "def get_template_html_rendering(render_data_url):\n",
    "    response = requests.get(render_data_url,auth= auth,verify=False)\n",
    "    if response.status_code == 200:\n",
    "        display(HTML(response.json()))\n",
    "    else:\n",
    "        print(f\"Failed: {response.status_code} - {response.text}\")"
   ]
  },
  {
   "cell_type": "code",
   "execution_count": null,
   "id": "c90fa61f",
   "metadata": {},
   "outputs": [],
   "source": [
    "get_template_html_rendering(render_data_list_rest_url)"
   ]
  },
  {
   "cell_type": "markdown",
   "id": "167b0d88",
   "metadata": {},
   "source": [
    "<p class=\"lead\">\n",
    "  The result displays the details of a specific data entry using a clean, well-organized layout, utilizing the list HTML rendering associated with the template.\n",
    "</p>\n"
   ]
  },
  {
   "cell_type": "code",
   "execution_count": null,
   "id": "cc30a5bb",
   "metadata": {},
   "outputs": [],
   "source": [
    "get_template_html_rendering(render_data_detail_rest_url)"
   ]
  },
  {
   "cell_type": "markdown",
   "id": "ebe3a4aa",
   "metadata": {},
   "source": [
    "<p class=\"lead\">\n",
    "  The result displays the details of a specific data entry using a clean, well-organized layout, utilizing the detail HTML rendering associated with the template.\n",
    "</p>\n"
   ]
  }
 ],
 "metadata": {
  "kernelspec": {
   "display_name": "Python 3 (ipykernel)",
   "language": "python",
   "name": "python3"
  },
  "language_info": {
   "codemirror_mode": {
    "name": "ipython",
    "version": 3
   },
   "file_extension": ".py",
   "mimetype": "text/x-python",
   "name": "python",
   "nbconvert_exporter": "python",
   "pygments_lexer": "ipython3",
   "version": "3.11.4"
  }
 },
 "nbformat": 4,
 "nbformat_minor": 5
}
